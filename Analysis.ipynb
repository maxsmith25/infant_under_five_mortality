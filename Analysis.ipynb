{
 "cells": [
  {
   "cell_type": "markdown",
   "metadata": {},
   "source": [
    "# Under-5 Infant Mortality Analysis"
   ]
  },
  {
   "cell_type": "markdown",
   "metadata": {},
   "source": [
    "## Introduction"
   ]
  },
  {
   "cell_type": "markdown",
   "metadata": {},
   "source": [
    "My wife and I are expecting a baby in just over three months and with all of our doctor appointments and check up scans I have been very curious about what influences the health of a new baby. This lead me to look at statistics of things like SIDS (Sudden Infant Death Syndrome) and other unexpected ways that children die in their early years. I came across an interesting statistic that was shockingly high in some parts of the world, the mortality rate of Children under 5 years of age. There are countries where this is less than half of a percent and other countries where this is more than 10 percent. I found three features of countries that I think may have an influence on the under-5 mortality rate. The question I want to answer is if I can predict whether the under-5 mortality rate of children is low, moderate, or severe using GDP per capita, population, and the countries life expectancy."
   ]
  },
  {
   "cell_type": "markdown",
   "metadata": {},
   "source": [
    "## Collecting and Cleaning the Data"
   ]
  },
  {
   "cell_type": "markdown",
   "metadata": {},
   "source": [
    "I was able to find data for the mortality rate, GDP per capita, and population from Wikipedia pages. I scraped the data from those tables and this left me only needing life expectancy data by country. I was able to find a public data set with this information."
   ]
  },
  {
   "cell_type": "code",
   "execution_count": 95,
   "metadata": {},
   "outputs": [],
   "source": [
    "# Import Libraries\n",
    "import pandas as pd\n",
    "pd.options.mode.chained_assignment = None # Won't produce a warning when using chained assignment\n",
    "import numpy as np\n",
    "import re\n",
    "import matplotlib.pyplot as plt\n",
    "from sklearn.preprocessing import MinMaxScaler\n",
    "from sklearn.cluster import KMeans\n",
    "from sklearn.metrics import mean_squared_error, r2_score\n",
    "from sklearn.model_selection import train_test_split"
   ]
  },
  {
   "cell_type": "code",
   "execution_count": 2,
   "metadata": {},
   "outputs": [],
   "source": [
    "mortality_rate_url = \"https://en.wikipedia.org/wiki/List_of_countries_by_infant_and_under-five_mortality_rates\"\n",
    "GDP_per_capita_url = \"https://en.wikipedia.org/wiki/List_of_countries_by_GDP_(PPP)_per_capita\"\n",
    "population_url = \"https://en.wikipedia.org/wiki/List_of_countries_and_dependencies_by_population\""
   ]
  },
  {
   "cell_type": "code",
   "execution_count": 3,
   "metadata": {},
   "outputs": [],
   "source": [
    "mortality_page = pd.read_html(mortality_rate_url)"
   ]
  },
  {
   "cell_type": "code",
   "execution_count": 4,
   "metadata": {},
   "outputs": [],
   "source": [
    "mortality_data = mortality_page[2][[\"Country or territory\", \"2019mortality rate,under-5(per 1000live births)\"]]\n",
    "mortality_data.columns = [\"country\", \"under-5 mortality per 1000 births\"]"
   ]
  },
  {
   "cell_type": "code",
   "execution_count": 142,
   "metadata": {},
   "outputs": [
    {
     "data": {
      "text/html": [
       "<div>\n",
       "<style scoped>\n",
       "    .dataframe tbody tr th:only-of-type {\n",
       "        vertical-align: middle;\n",
       "    }\n",
       "\n",
       "    .dataframe tbody tr th {\n",
       "        vertical-align: top;\n",
       "    }\n",
       "\n",
       "    .dataframe thead th {\n",
       "        text-align: right;\n",
       "    }\n",
       "</style>\n",
       "<table border=\"1\" class=\"dataframe\">\n",
       "  <thead>\n",
       "    <tr style=\"text-align: right;\">\n",
       "      <th></th>\n",
       "      <th>country</th>\n",
       "      <th>under-5 mortality per 1000 births</th>\n",
       "    </tr>\n",
       "  </thead>\n",
       "  <tbody>\n",
       "    <tr>\n",
       "      <th>0</th>\n",
       "      <td>Afghanistan</td>\n",
       "      <td>60.3</td>\n",
       "    </tr>\n",
       "    <tr>\n",
       "      <th>1</th>\n",
       "      <td>Albania</td>\n",
       "      <td>9.7</td>\n",
       "    </tr>\n",
       "  </tbody>\n",
       "</table>\n",
       "</div>"
      ],
      "text/plain": [
       "       country  under-5 mortality per 1000 births\n",
       "0  Afghanistan                               60.3\n",
       "1      Albania                                9.7"
      ]
     },
     "execution_count": 142,
     "metadata": {},
     "output_type": "execute_result"
    }
   ],
   "source": [
    "mortality_data.head(2)"
   ]
  },
  {
   "cell_type": "code",
   "execution_count": 6,
   "metadata": {},
   "outputs": [],
   "source": [
    "GDP_per_capita_page = pd.read_html(GDP_per_capita_url)"
   ]
  },
  {
   "cell_type": "code",
   "execution_count": 7,
   "metadata": {},
   "outputs": [],
   "source": [
    "GDP_per_capita_data = GDP_per_capita_page[3][[\"Country/Territory\", \"Int$\"]]\n",
    "GDP_per_capita_data.columns = [\"country\", \"gdp per cap\"]"
   ]
  },
  {
   "cell_type": "code",
   "execution_count": 8,
   "metadata": {},
   "outputs": [
    {
     "data": {
      "text/html": [
       "<div>\n",
       "<style scoped>\n",
       "    .dataframe tbody tr th:only-of-type {\n",
       "        vertical-align: middle;\n",
       "    }\n",
       "\n",
       "    .dataframe tbody tr th {\n",
       "        vertical-align: top;\n",
       "    }\n",
       "\n",
       "    .dataframe thead th {\n",
       "        text-align: right;\n",
       "    }\n",
       "</style>\n",
       "<table border=\"1\" class=\"dataframe\">\n",
       "  <thead>\n",
       "    <tr style=\"text-align: right;\">\n",
       "      <th></th>\n",
       "      <th>country</th>\n",
       "      <th>gdp per cap</th>\n",
       "    </tr>\n",
       "  </thead>\n",
       "  <tbody>\n",
       "    <tr>\n",
       "      <th>0</th>\n",
       "      <td>Macau</td>\n",
       "      <td>129103</td>\n",
       "    </tr>\n",
       "    <tr>\n",
       "      <th>1</th>\n",
       "      <td>Luxembourg</td>\n",
       "      <td>121293</td>\n",
       "    </tr>\n",
       "  </tbody>\n",
       "</table>\n",
       "</div>"
      ],
      "text/plain": [
       "      country  gdp per cap\n",
       "0       Macau       129103\n",
       "1  Luxembourg       121293"
      ]
     },
     "execution_count": 8,
     "metadata": {},
     "output_type": "execute_result"
    }
   ],
   "source": [
    "GDP_per_capita_data.head(2)"
   ]
  },
  {
   "cell_type": "code",
   "execution_count": 9,
   "metadata": {},
   "outputs": [],
   "source": [
    "population_page = pd.read_html(population_url)"
   ]
  },
  {
   "cell_type": "code",
   "execution_count": 10,
   "metadata": {},
   "outputs": [],
   "source": [
    "population_data = population_page[0][[\"Country(or dependent territory)\", \"Population\"]]\n",
    "population_data.columns = [\"country\", \"population\"]"
   ]
  },
  {
   "cell_type": "code",
   "execution_count": 11,
   "metadata": {},
   "outputs": [],
   "source": [
    "population_data[\"country\"] = population_data.country.apply(lambda x: re.sub(r\"\\[\\S+\", \"\", x).strip()).apply(lambda y: re.sub(r\"\\(\\S+\", \"\", y))"
   ]
  },
  {
   "cell_type": "code",
   "execution_count": 12,
   "metadata": {},
   "outputs": [
    {
     "data": {
      "text/html": [
       "<div>\n",
       "<style scoped>\n",
       "    .dataframe tbody tr th:only-of-type {\n",
       "        vertical-align: middle;\n",
       "    }\n",
       "\n",
       "    .dataframe tbody tr th {\n",
       "        vertical-align: top;\n",
       "    }\n",
       "\n",
       "    .dataframe thead th {\n",
       "        text-align: right;\n",
       "    }\n",
       "</style>\n",
       "<table border=\"1\" class=\"dataframe\">\n",
       "  <thead>\n",
       "    <tr style=\"text-align: right;\">\n",
       "      <th></th>\n",
       "      <th>country</th>\n",
       "      <th>population</th>\n",
       "    </tr>\n",
       "  </thead>\n",
       "  <tbody>\n",
       "    <tr>\n",
       "      <th>0</th>\n",
       "      <td>China</td>\n",
       "      <td>1405689200</td>\n",
       "    </tr>\n",
       "    <tr>\n",
       "      <th>1</th>\n",
       "      <td>India</td>\n",
       "      <td>1370682276</td>\n",
       "    </tr>\n",
       "  </tbody>\n",
       "</table>\n",
       "</div>"
      ],
      "text/plain": [
       "  country  population\n",
       "0   China  1405689200\n",
       "1   India  1370682276"
      ]
     },
     "execution_count": 12,
     "metadata": {},
     "output_type": "execute_result"
    }
   ],
   "source": [
    "population_data.head(2)"
   ]
  },
  {
   "cell_type": "code",
   "execution_count": 13,
   "metadata": {},
   "outputs": [],
   "source": [
    "life_expectancy_data = pd.read_csv(\"API_SP.DYN.LE00.IN_DS2_en_csv_v2_1740384.csv\")"
   ]
  },
  {
   "cell_type": "code",
   "execution_count": 14,
   "metadata": {},
   "outputs": [],
   "source": [
    "life_expectancy_data = life_expectancy_data[[\"Country Name\", \"2018\"]]\n",
    "life_expectancy_data.columns = [\"country\", \"life expectancy\"]\n",
    "life_expectancy_data = life_expectancy_data.dropna()"
   ]
  },
  {
   "cell_type": "code",
   "execution_count": 15,
   "metadata": {},
   "outputs": [
    {
     "data": {
      "text/html": [
       "<div>\n",
       "<style scoped>\n",
       "    .dataframe tbody tr th:only-of-type {\n",
       "        vertical-align: middle;\n",
       "    }\n",
       "\n",
       "    .dataframe tbody tr th {\n",
       "        vertical-align: top;\n",
       "    }\n",
       "\n",
       "    .dataframe thead th {\n",
       "        text-align: right;\n",
       "    }\n",
       "</style>\n",
       "<table border=\"1\" class=\"dataframe\">\n",
       "  <thead>\n",
       "    <tr style=\"text-align: right;\">\n",
       "      <th></th>\n",
       "      <th>country</th>\n",
       "      <th>life expectancy</th>\n",
       "    </tr>\n",
       "  </thead>\n",
       "  <tbody>\n",
       "    <tr>\n",
       "      <th>0</th>\n",
       "      <td>Aruba</td>\n",
       "      <td>76.152</td>\n",
       "    </tr>\n",
       "    <tr>\n",
       "      <th>1</th>\n",
       "      <td>Afghanistan</td>\n",
       "      <td>64.486</td>\n",
       "    </tr>\n",
       "  </tbody>\n",
       "</table>\n",
       "</div>"
      ],
      "text/plain": [
       "       country  life expectancy\n",
       "0        Aruba           76.152\n",
       "1  Afghanistan           64.486"
      ]
     },
     "execution_count": 15,
     "metadata": {},
     "output_type": "execute_result"
    }
   ],
   "source": [
    "life_expectancy_data.head(2)"
   ]
  },
  {
   "cell_type": "markdown",
   "metadata": {},
   "source": [
    "One of the difficult parts was getting the country names to match across all four data sets. So I was able to find the names that did not match and make those edits"
   ]
  },
  {
   "cell_type": "code",
   "execution_count": 16,
   "metadata": {},
   "outputs": [],
   "source": [
    "mortality_data['country'][mortality_data['country'] == 'Congo, Democratic Republic of the'] = 'Dem. Congo'\n",
    "mortality_data['country'][mortality_data['country'] == 'Congo, Republic of the'] = 'Rep. Congo'\n",
    "mortality_data['country'][mortality_data['country'] == 'Korea, North'] = 'North Korea'\n",
    "mortality_data['country'][mortality_data['country'] == 'Korea, South'] = 'South Korea'\n",
    "mortality_data['country'][mortality_data['country'] == 'Micronesia, Federated States of'] = 'Micronesia'\n",
    "mortality_data['country'][mortality_data['country'] == 'Eswatini (Swaziland)'] = 'Eswatini'"
   ]
  },
  {
   "cell_type": "code",
   "execution_count": 17,
   "metadata": {},
   "outputs": [],
   "source": [
    "life_expectancy_data['country'][life_expectancy_data['country'] == 'Brunei Darussalam'] = 'Brunei'\n",
    "life_expectancy_data['country'][life_expectancy_data['country'] == 'Cabo Verde'] = 'Cape Verde'\n",
    "life_expectancy_data['country'][life_expectancy_data['country'] == 'Congo, Dem. Rep.'] = 'Dem. Congo'\n",
    "life_expectancy_data['country'][life_expectancy_data['country'] == 'Congo, Rep.'] = 'Rep. Congo'\n",
    "life_expectancy_data['country'][life_expectancy_data['country'] == 'Egypt, Arab Rep.'] = 'Egypt'\n",
    "life_expectancy_data['country'][life_expectancy_data['country'] == 'Iran, Islamic Rep.'] = 'Iran'\n",
    "life_expectancy_data['country'][life_expectancy_data['country'] == 'Kyrgyz Republic'] = 'Kyrgyzstan'\n",
    "life_expectancy_data['country'][life_expectancy_data['country'] == 'Lao PDR'] = 'Laos'\n",
    "life_expectancy_data['country'][life_expectancy_data['country'] == 'Micronesia, Fed. Sts.'] = 'Micronesia'\n",
    "life_expectancy_data['country'][life_expectancy_data['country'] == 'Korea, Rep.'] = 'North Korea'\n",
    "life_expectancy_data['country'][life_expectancy_data['country'] == 'Russian Federation'] = 'Russia'\n",
    "life_expectancy_data['country'][life_expectancy_data['country'] == 'Slovak Republic'] = 'Slovakia'\n",
    "life_expectancy_data['country'][life_expectancy_data['country'] == 'St. Kitts and Nevis'] = 'Saint Kitts and Nevis'\n",
    "life_expectancy_data['country'][life_expectancy_data['country'] == 'St. Vincent and the Grenadines'] = 'Saint Vincent and the Grenadines'\n",
    "life_expectancy_data['country'][life_expectancy_data['country'] == 'St. Lucia'] = 'Saint Lucia'\n",
    "life_expectancy_data['country'][life_expectancy_data['country'] == 'Korea, Dem. People’s Rep.'] = 'South Korea'\n",
    "life_expectancy_data['country'][life_expectancy_data['country'] == 'Syrian Arab Republic'] = 'Syria'\n",
    "life_expectancy_data['country'][life_expectancy_data['country'] == 'Venezuela, RB'] = 'Venezuela'\n",
    "life_expectancy_data['country'][life_expectancy_data['country'] == 'West Bank and Gaza'] = 'West Bank'\n",
    "life_expectancy_data['country'][life_expectancy_data['country'] == 'Yemen, Rep.'] = 'Yemen'"
   ]
  },
  {
   "cell_type": "code",
   "execution_count": 18,
   "metadata": {},
   "outputs": [
    {
     "data": {
      "text/plain": [
       "array(['Andorra', 'Dominica', 'Marshall Islands', 'Monaco', 'Nauru',\n",
       "       'Palau', 'Saint Kitts and Nevis', 'San Marino', 'Tuvalu'],\n",
       "      dtype='<U32')"
      ]
     },
     "execution_count": 18,
     "metadata": {},
     "output_type": "execute_result"
    }
   ],
   "source": [
    "np.setdiff1d(list(mortality_data.country), list(life_expectancy_data.country))"
   ]
  },
  {
   "cell_type": "code",
   "execution_count": 19,
   "metadata": {},
   "outputs": [],
   "source": [
    "# np.setdiff1d(list(life_expectancy_data.country), list(mortality_data.country))"
   ]
  },
  {
   "cell_type": "code",
   "execution_count": 20,
   "metadata": {},
   "outputs": [],
   "source": [
    "GDP_per_capita_data['country'][GDP_per_capita_data['country'] == 'Côte d\\'Ivoire'] = 'Cote d\\'Ivoire'\n",
    "GDP_per_capita_data['country'][GDP_per_capita_data['country'] == 'Democratic Republic of the Congo'] = 'Dem. Congo'\n",
    "GDP_per_capita_data['country'][GDP_per_capita_data['country'] == 'The Gambia'] = 'Gambia, The'\n",
    "GDP_per_capita_data['country'][GDP_per_capita_data['country'] == 'Iran (2017)'] = 'Iran'\n",
    "GDP_per_capita_data['country'][GDP_per_capita_data['country'] == 'The Bahamas'] = 'Bahamas, The'\n",
    "GDP_per_capita_data['country'][GDP_per_capita_data['country'] == 'Federated States of Micronesia'] = 'Micronesia'\n",
    "GDP_per_capita_data['country'][GDP_per_capita_data['country'] == 'Republic of the Congo'] = 'Rep. Congo'\n",
    "GDP_per_capita_data['country'][GDP_per_capita_data['country'] == 'San Marino (2018)'] = 'San Marino'\n",
    "GDP_per_capita_data['country'][GDP_per_capita_data['country'] == 'São Tomé and Príncipe'] = 'Sao Tome and Principe'\n",
    "GDP_per_capita_data['country'][GDP_per_capita_data['country'] == 'South Sudan (2014)'] = 'South Sudan'\n",
    "GDP_per_capita_data['country'][GDP_per_capita_data['country'] == 'Venezuela (2011)'] = 'Venezuela'\n",
    "GDP_per_capita_data['country'][GDP_per_capita_data['country'] == 'West Bank and Gaza (2018)'] = 'West Bank'\n",
    "GDP_per_capita_data['country'][GDP_per_capita_data['country'] == 'Yemen (2013)'] = 'Yemen'"
   ]
  },
  {
   "cell_type": "code",
   "execution_count": 21,
   "metadata": {},
   "outputs": [
    {
     "data": {
      "text/plain": [
       "array(['Andorra', 'Cuba', 'Eritrea', 'Monaco', 'North Korea', 'Somalia',\n",
       "       'Syria'], dtype='<U32')"
      ]
     },
     "execution_count": 21,
     "metadata": {},
     "output_type": "execute_result"
    }
   ],
   "source": [
    "np.setdiff1d(list(mortality_data.country), list(GDP_per_capita_data.country))"
   ]
  },
  {
   "cell_type": "code",
   "execution_count": 22,
   "metadata": {},
   "outputs": [],
   "source": [
    "# np.setdiff1d(list(GDP_per_capita_data.country), list(mortality_data.country))"
   ]
  },
  {
   "cell_type": "code",
   "execution_count": 23,
   "metadata": {},
   "outputs": [],
   "source": [
    "population_data['country'][population_data['country'] == 'Bahamas'] = 'Bahamas, The'\n",
    "population_data['country'][population_data['country'] == 'Congo'] = 'Dem. Congo'\n",
    "population_data['country'][population_data['country'] == 'Gambia'] = 'Gambia, The'\n",
    "population_data['country'][population_data['country'] == 'F.S. Micronesia'] = 'Micronesia'\n",
    "population_data['country'][population_data['country'] == 'São Tomé and Príncipe'] = 'Sao Tome and Principe'"
   ]
  },
  {
   "cell_type": "code",
   "execution_count": 24,
   "metadata": {},
   "outputs": [
    {
     "data": {
      "text/plain": [
       "array([\"Cote d'Ivoire\", 'Rep. Congo', 'Timor-Leste', 'West Bank'],\n",
       "      dtype='<U32')"
      ]
     },
     "execution_count": 24,
     "metadata": {},
     "output_type": "execute_result"
    }
   ],
   "source": [
    "np.setdiff1d(list(mortality_data.country), list(population_data.country))"
   ]
  },
  {
   "cell_type": "code",
   "execution_count": 25,
   "metadata": {},
   "outputs": [],
   "source": [
    "# np.setdiff1d(list(population_data.country), list(mortality_data.country))"
   ]
  },
  {
   "cell_type": "markdown",
   "metadata": {},
   "source": [
    "After I got the country names to match I was ready to compile all of the data into one data frame I did this by creating separate functions that pulled the metric I was looking for from the data frame where it was stored."
   ]
  },
  {
   "cell_type": "code",
   "execution_count": 26,
   "metadata": {},
   "outputs": [],
   "source": [
    "# Create the data frame\n",
    "data = pd.DataFrame()"
   ]
  },
  {
   "cell_type": "code",
   "execution_count": 27,
   "metadata": {},
   "outputs": [],
   "source": [
    "data['country'] = mortality_data['country']\n",
    "data['mortality'] = mortality_data['under-5 mortality per 1000 births']"
   ]
  },
  {
   "cell_type": "code",
   "execution_count": 28,
   "metadata": {},
   "outputs": [],
   "source": [
    "def FillPopulation(x):\n",
    "    if (len(population_data['population'][population_data['country'] == x]) == 1):\n",
    "        return population_data['population'][population_data['country'] == x]\n",
    "    else :\n",
    "        return float('NaN')"
   ]
  },
  {
   "cell_type": "code",
   "execution_count": 29,
   "metadata": {},
   "outputs": [],
   "source": [
    "data[\"population\"] = -1"
   ]
  },
  {
   "cell_type": "code",
   "execution_count": 30,
   "metadata": {},
   "outputs": [],
   "source": [
    "for i in range(len(data)):\n",
    "    data['population'][i] = FillPopulation(data['country'][i])"
   ]
  },
  {
   "cell_type": "code",
   "execution_count": 31,
   "metadata": {},
   "outputs": [],
   "source": [
    "def FillLifeExpectancy(x):\n",
    "    if (len(life_expectancy_data['life expectancy'][life_expectancy_data['country'] == x]) == 1):\n",
    "        return life_expectancy_data['life expectancy'][life_expectancy_data['country'] == x]\n",
    "    else :\n",
    "        return float('NaN')"
   ]
  },
  {
   "cell_type": "code",
   "execution_count": 32,
   "metadata": {},
   "outputs": [],
   "source": [
    "data[\"life expectancy\"] = -1"
   ]
  },
  {
   "cell_type": "code",
   "execution_count": 33,
   "metadata": {},
   "outputs": [],
   "source": [
    "for i in range(len(data)):\n",
    "    data['life expectancy'][i] = FillLifeExpectancy(data['country'][i])"
   ]
  },
  {
   "cell_type": "code",
   "execution_count": 34,
   "metadata": {},
   "outputs": [],
   "source": [
    "def FillGdpPerCapita(x):\n",
    "    if (len(GDP_per_capita_data['gdp per cap'][GDP_per_capita_data['country'] == x]) == 1):\n",
    "        return GDP_per_capita_data['gdp per cap'][GDP_per_capita_data['country'] == x]\n",
    "    else :\n",
    "        return float('NaN')"
   ]
  },
  {
   "cell_type": "code",
   "execution_count": 35,
   "metadata": {},
   "outputs": [],
   "source": [
    "data[\"gdp per cap\"] = -1"
   ]
  },
  {
   "cell_type": "code",
   "execution_count": 36,
   "metadata": {},
   "outputs": [],
   "source": [
    "for i in range(len(data)):\n",
    "    data['gdp per cap'][i] = FillGdpPerCapita(data['country'][i])"
   ]
  },
  {
   "cell_type": "markdown",
   "metadata": {},
   "source": [
    "## EDA"
   ]
  },
  {
   "cell_type": "markdown",
   "metadata": {},
   "source": [
    "Below I removed the rows with missing data points as well as removed a few outliers. I did a log transformation on GDP per capita and population. I also separated the countries into three groups, low, moderate, and severe under-5 mortality rates for children."
   ]
  },
  {
   "cell_type": "code",
   "execution_count": 37,
   "metadata": {},
   "outputs": [
    {
     "name": "stdout",
     "output_type": "stream",
     "text": [
      "<class 'pandas.core.frame.DataFrame'>\n",
      "RangeIndex: 193 entries, 0 to 192\n",
      "Data columns (total 5 columns):\n",
      " #   Column           Non-Null Count  Dtype  \n",
      "---  ------           --------------  -----  \n",
      " 0   country          193 non-null    object \n",
      " 1   mortality        193 non-null    float64\n",
      " 2   population       189 non-null    float64\n",
      " 3   life expectancy  184 non-null    float64\n",
      " 4   gdp per cap      186 non-null    float64\n",
      "dtypes: float64(4), object(1)\n",
      "memory usage: 7.7+ KB\n"
     ]
    }
   ],
   "source": [
    "data.info()"
   ]
  },
  {
   "cell_type": "code",
   "execution_count": 38,
   "metadata": {},
   "outputs": [],
   "source": [
    "data = data.dropna()"
   ]
  },
  {
   "cell_type": "code",
   "execution_count": 39,
   "metadata": {},
   "outputs": [
    {
     "data": {
      "text/html": [
       "<div>\n",
       "<style scoped>\n",
       "    .dataframe tbody tr th:only-of-type {\n",
       "        vertical-align: middle;\n",
       "    }\n",
       "\n",
       "    .dataframe tbody tr th {\n",
       "        vertical-align: top;\n",
       "    }\n",
       "\n",
       "    .dataframe thead th {\n",
       "        text-align: right;\n",
       "    }\n",
       "</style>\n",
       "<table border=\"1\" class=\"dataframe\">\n",
       "  <thead>\n",
       "    <tr style=\"text-align: right;\">\n",
       "      <th></th>\n",
       "      <th>country</th>\n",
       "      <th>mortality</th>\n",
       "      <th>population</th>\n",
       "      <th>life expectancy</th>\n",
       "      <th>gdp per cap</th>\n",
       "    </tr>\n",
       "  </thead>\n",
       "  <tbody>\n",
       "    <tr>\n",
       "      <th>0</th>\n",
       "      <td>Afghanistan</td>\n",
       "      <td>60.3</td>\n",
       "      <td>32890171.0</td>\n",
       "      <td>64.000</td>\n",
       "      <td>2293.0</td>\n",
       "    </tr>\n",
       "    <tr>\n",
       "      <th>1</th>\n",
       "      <td>Albania</td>\n",
       "      <td>9.7</td>\n",
       "      <td>2845955.0</td>\n",
       "      <td>78.000</td>\n",
       "      <td>14495.0</td>\n",
       "    </tr>\n",
       "    <tr>\n",
       "      <th>2</th>\n",
       "      <td>Algeria</td>\n",
       "      <td>23.3</td>\n",
       "      <td>43900000.0</td>\n",
       "      <td>76.000</td>\n",
       "      <td>11820.0</td>\n",
       "    </tr>\n",
       "    <tr>\n",
       "      <th>4</th>\n",
       "      <td>Angola</td>\n",
       "      <td>74.7</td>\n",
       "      <td>31127674.0</td>\n",
       "      <td>60.782</td>\n",
       "      <td>6929.0</td>\n",
       "    </tr>\n",
       "    <tr>\n",
       "      <th>5</th>\n",
       "      <td>Antigua and Barbuda</td>\n",
       "      <td>6.6</td>\n",
       "      <td>97895.0</td>\n",
       "      <td>76.885</td>\n",
       "      <td>22817.0</td>\n",
       "    </tr>\n",
       "  </tbody>\n",
       "</table>\n",
       "</div>"
      ],
      "text/plain": [
       "               country  mortality  population  life expectancy  gdp per cap\n",
       "0          Afghanistan       60.3  32890171.0           64.000       2293.0\n",
       "1              Albania        9.7   2845955.0           78.000      14495.0\n",
       "2              Algeria       23.3  43900000.0           76.000      11820.0\n",
       "4               Angola       74.7  31127674.0           60.782       6929.0\n",
       "5  Antigua and Barbuda        6.6     97895.0           76.885      22817.0"
      ]
     },
     "execution_count": 39,
     "metadata": {},
     "output_type": "execute_result"
    }
   ],
   "source": [
    "data.head()"
   ]
  },
  {
   "cell_type": "markdown",
   "metadata": {},
   "source": [
    "Below are three plots that compare mortality to the three features in my data set. After that is a table of the correlations. We see that the strongest correlation is between Life Expectancy and mortality"
   ]
  },
  {
   "cell_type": "code",
   "execution_count": 40,
   "metadata": {},
   "outputs": [
    {
     "data": {
      "image/png": "[encoded data removed]",
      "text/plain": [
       "<Figure size 432x288 with 1 Axes>"
      ]
     },
     "metadata": {
      "needs_background": "light"
     },
     "output_type": "display_data"
    }
   ],
   "source": [
    "plt.scatter(data.mortality, data[\"gdp per cap\"], c = \"green\")\n",
    "plt.xlabel(\"Under-5 Mortality\")\n",
    "plt.ylabel(\"GDP Per Capita\")\n",
    "plt.title(\"EDA Scatter Plot\")\n",
    "plt.show()"
   ]
  },
  {
   "cell_type": "code",
   "execution_count": 41,
   "metadata": {},
   "outputs": [
    {
     "data": {
      "image/png": "[encoded data removed]",
      "text/plain": [
       "<Figure size 432x288 with 1 Axes>"
      ]
     },
     "metadata": {
      "needs_background": "light"
     },
     "output_type": "display_data"
    }
   ],
   "source": [
    "plt.scatter(data.mortality, data[\"life expectancy\"])\n",
    "plt.xlabel(\"Under-5 Mortality\")\n",
    "plt.ylabel(\"Life Expectancy\")\n",
    "plt.title(\"EDA Scatter Plot\")\n",
    "plt.show()"
   ]
  },
  {
   "cell_type": "code",
   "execution_count": 42,
   "metadata": {},
   "outputs": [
    {
     "data": {
      "image/png": "[encoded data removed]",
      "text/plain": [
       "<Figure size 432x288 with 1 Axes>"
      ]
     },
     "metadata": {
      "needs_background": "light"
     },
     "output_type": "display_data"
    }
   ],
   "source": [
    "# I had to remove China and India from the data for this plot because they were such extreme population outliers.\n",
    "plt.scatter(data.mortality[(data['country'] != \"China\") & (data['country'] != \"India\")], data[\"population\"][(data['country'] != \"China\") & (data['country'] != \"India\")], c = \"red\")\n",
    "plt.xlabel(\"Under-5 Mortality\")\n",
    "plt.ylabel(\"Population\")\n",
    "plt.title(\"EDA Scatter Plot\")\n",
    "plt.show()"
   ]
  },
  {
   "cell_type": "code",
   "execution_count": 43,
   "metadata": {},
   "outputs": [
    {
     "data": {
      "text/html": [
       "<div>\n",
       "<style scoped>\n",
       "    .dataframe tbody tr th:only-of-type {\n",
       "        vertical-align: middle;\n",
       "    }\n",
       "\n",
       "    .dataframe tbody tr th {\n",
       "        vertical-align: top;\n",
       "    }\n",
       "\n",
       "    .dataframe thead th {\n",
       "        text-align: right;\n",
       "    }\n",
       "</style>\n",
       "<table border=\"1\" class=\"dataframe\">\n",
       "  <thead>\n",
       "    <tr style=\"text-align: right;\">\n",
       "      <th></th>\n",
       "      <th>mortality</th>\n",
       "      <th>population</th>\n",
       "      <th>life expectancy</th>\n",
       "      <th>gdp per cap</th>\n",
       "    </tr>\n",
       "  </thead>\n",
       "  <tbody>\n",
       "    <tr>\n",
       "      <th>mortality</th>\n",
       "      <td>1.000000</td>\n",
       "      <td>-0.012973</td>\n",
       "      <td>-0.918604</td>\n",
       "      <td>-0.588327</td>\n",
       "    </tr>\n",
       "    <tr>\n",
       "      <th>population</th>\n",
       "      <td>-0.012973</td>\n",
       "      <td>1.000000</td>\n",
       "      <td>0.011672</td>\n",
       "      <td>-0.046980</td>\n",
       "    </tr>\n",
       "    <tr>\n",
       "      <th>life expectancy</th>\n",
       "      <td>-0.918604</td>\n",
       "      <td>0.011672</td>\n",
       "      <td>1.000000</td>\n",
       "      <td>0.706349</td>\n",
       "    </tr>\n",
       "    <tr>\n",
       "      <th>gdp per cap</th>\n",
       "      <td>-0.588327</td>\n",
       "      <td>-0.046980</td>\n",
       "      <td>0.706349</td>\n",
       "      <td>1.000000</td>\n",
       "    </tr>\n",
       "  </tbody>\n",
       "</table>\n",
       "</div>"
      ],
      "text/plain": [
       "                 mortality  population  life expectancy  gdp per cap\n",
       "mortality         1.000000   -0.012973        -0.918604    -0.588327\n",
       "population       -0.012973    1.000000         0.011672    -0.046980\n",
       "life expectancy  -0.918604    0.011672         1.000000     0.706349\n",
       "gdp per cap      -0.588327   -0.046980         0.706349     1.000000"
      ]
     },
     "execution_count": 43,
     "metadata": {},
     "output_type": "execute_result"
    }
   ],
   "source": [
    "data.corr()"
   ]
  },
  {
   "cell_type": "code",
   "execution_count": 45,
   "metadata": {},
   "outputs": [
    {
     "data": {
      "text/plain": [
       "2.0"
      ]
     },
     "execution_count": 45,
     "metadata": {},
     "output_type": "execute_result"
    }
   ],
   "source": [
    "data.mortality.min()"
   ]
  },
  {
   "cell_type": "code",
   "execution_count": 49,
   "metadata": {},
   "outputs": [
    {
     "data": {
      "text/plain": [
       "array([ 6.6  ,  8.484, 15.6  , 27.188, 42.45 ])"
      ]
     },
     "execution_count": 49,
     "metadata": {},
     "output_type": "execute_result"
    }
   ],
   "source": [
    "np.percentile(data.mortality, [25, 33, 50, 66, 75])"
   ]
  },
  {
   "cell_type": "code",
   "execution_count": 48,
   "metadata": {},
   "outputs": [
    {
     "data": {
      "text/plain": [
       "117.2"
      ]
     },
     "execution_count": 48,
     "metadata": {},
     "output_type": "execute_result"
    }
   ],
   "source": [
    "data.mortality.max()"
   ]
  },
  {
   "cell_type": "markdown",
   "metadata": {},
   "source": [
    "I'll make three clusters to represent low, moderate, and severe mortality rates with 0-10, 10-30, and above 30 deaths per 1000 infants respectively."
   ]
  },
  {
   "cell_type": "code",
   "execution_count": 64,
   "metadata": {},
   "outputs": [],
   "source": [
    "def assign(x):\n",
    "    if (x < 10):\n",
    "        return 0\n",
    "    elif (x < 30):\n",
    "        return 1\n",
    "    else:\n",
    "        return 2"
   ]
  },
  {
   "cell_type": "code",
   "execution_count": 65,
   "metadata": {},
   "outputs": [],
   "source": [
    "data['label'] = data.mortality.apply(lambda x: assign(x))"
   ]
  },
  {
   "cell_type": "code",
   "execution_count": 66,
   "metadata": {},
   "outputs": [
    {
     "data": {
      "text/html": [
       "<div>\n",
       "<style scoped>\n",
       "    .dataframe tbody tr th:only-of-type {\n",
       "        vertical-align: middle;\n",
       "    }\n",
       "\n",
       "    .dataframe tbody tr th {\n",
       "        vertical-align: top;\n",
       "    }\n",
       "\n",
       "    .dataframe thead th {\n",
       "        text-align: right;\n",
       "    }\n",
       "</style>\n",
       "<table border=\"1\" class=\"dataframe\">\n",
       "  <thead>\n",
       "    <tr style=\"text-align: right;\">\n",
       "      <th></th>\n",
       "      <th>country</th>\n",
       "      <th>mortality</th>\n",
       "      <th>population</th>\n",
       "      <th>life expectancy</th>\n",
       "      <th>gdp per cap</th>\n",
       "      <th>label</th>\n",
       "    </tr>\n",
       "  </thead>\n",
       "  <tbody>\n",
       "    <tr>\n",
       "      <th>0</th>\n",
       "      <td>Afghanistan</td>\n",
       "      <td>60.3</td>\n",
       "      <td>32890171.0</td>\n",
       "      <td>64.000</td>\n",
       "      <td>2293.0</td>\n",
       "      <td>2</td>\n",
       "    </tr>\n",
       "    <tr>\n",
       "      <th>1</th>\n",
       "      <td>Albania</td>\n",
       "      <td>9.7</td>\n",
       "      <td>2845955.0</td>\n",
       "      <td>78.000</td>\n",
       "      <td>14495.0</td>\n",
       "      <td>0</td>\n",
       "    </tr>\n",
       "    <tr>\n",
       "      <th>2</th>\n",
       "      <td>Algeria</td>\n",
       "      <td>23.3</td>\n",
       "      <td>43900000.0</td>\n",
       "      <td>76.000</td>\n",
       "      <td>11820.0</td>\n",
       "      <td>1</td>\n",
       "    </tr>\n",
       "    <tr>\n",
       "      <th>4</th>\n",
       "      <td>Angola</td>\n",
       "      <td>74.7</td>\n",
       "      <td>31127674.0</td>\n",
       "      <td>60.782</td>\n",
       "      <td>6929.0</td>\n",
       "      <td>2</td>\n",
       "    </tr>\n",
       "    <tr>\n",
       "      <th>5</th>\n",
       "      <td>Antigua and Barbuda</td>\n",
       "      <td>6.6</td>\n",
       "      <td>97895.0</td>\n",
       "      <td>76.885</td>\n",
       "      <td>22817.0</td>\n",
       "      <td>0</td>\n",
       "    </tr>\n",
       "  </tbody>\n",
       "</table>\n",
       "</div>"
      ],
      "text/plain": [
       "               country  mortality  population  life expectancy  gdp per cap  \\\n",
       "0          Afghanistan       60.3  32890171.0           64.000       2293.0   \n",
       "1              Albania        9.7   2845955.0           78.000      14495.0   \n",
       "2              Algeria       23.3  43900000.0           76.000      11820.0   \n",
       "4               Angola       74.7  31127674.0           60.782       6929.0   \n",
       "5  Antigua and Barbuda        6.6     97895.0           76.885      22817.0   \n",
       "\n",
       "   label  \n",
       "0      2  \n",
       "1      0  \n",
       "2      1  \n",
       "4      2  \n",
       "5      0  "
      ]
     },
     "execution_count": 66,
     "metadata": {},
     "output_type": "execute_result"
    }
   ],
   "source": [
    "data.head()"
   ]
  },
  {
   "cell_type": "markdown",
   "metadata": {},
   "source": [
    "I decided to remove China and India due to their population being such outliers. I also decided to take a log transformation of population and gdp per capita"
   ]
  },
  {
   "cell_type": "code",
   "execution_count": 76,
   "metadata": {},
   "outputs": [],
   "source": [
    "data = data[(data['country'] != \"China\") & (data['country'] != \"India\")]"
   ]
  },
  {
   "cell_type": "code",
   "execution_count": 85,
   "metadata": {},
   "outputs": [],
   "source": [
    "data['population'] = data['population'].apply(lambda x: np.log(x))"
   ]
  },
  {
   "cell_type": "code",
   "execution_count": 86,
   "metadata": {},
   "outputs": [],
   "source": [
    "data['gdp per cap'] = data['gdp per cap'].apply(lambda x: np.log(x))"
   ]
  },
  {
   "cell_type": "markdown",
   "metadata": {},
   "source": [
    "As part of my EDA I clustered the data with no labels. I was able to look at which features pulled the strongest I also scaled my data for the duration of the analysis from 0-1 for each feature."
   ]
  },
  {
   "cell_type": "code",
   "execution_count": 87,
   "metadata": {},
   "outputs": [],
   "source": [
    "scalar = MinMaxScaler()"
   ]
  },
  {
   "cell_type": "code",
   "execution_count": 88,
   "metadata": {},
   "outputs": [
    {
     "data": {
      "text/plain": [
       "MinMaxScaler()"
      ]
     },
     "execution_count": 88,
     "metadata": {},
     "output_type": "execute_result"
    }
   ],
   "source": [
    "scalar.fit(data[['mortality', 'population', \"life expectancy\", \"gdp per cap\"]])"
   ]
  },
  {
   "cell_type": "code",
   "execution_count": 89,
   "metadata": {},
   "outputs": [],
   "source": [
    "X = scalar.transform(data[['mortality', 'population', \"life expectancy\", \"gdp per cap\"]])"
   ]
  },
  {
   "cell_type": "code",
   "execution_count": 91,
   "metadata": {},
   "outputs": [],
   "source": [
    "kmeans = KMeans(n_clusters=3)\n",
    "kmeans.fit(X)\n",
    "y_kmeans = kmeans.predict(X)"
   ]
  },
  {
   "cell_type": "code",
   "execution_count": 92,
   "metadata": {},
   "outputs": [
    {
     "data": {
      "image/png": "[encoded data removed]",
      "text/plain": [
       "<Figure size 432x288 with 1 Axes>"
      ]
     },
     "metadata": {
      "needs_background": "light"
     },
     "output_type": "display_data"
    }
   ],
   "source": [
    "plt.scatter(X[:,0], X[:,2], c=y_kmeans, cmap='viridis',alpha=.5)\n",
    "plt.ylabel(\"Life Expectancy\")\n",
    "plt.xlabel(\"Under-5 Mortality\")\n",
    "centers = kmeans.cluster_centers_\n",
    "plt.scatter(centers[:,0], centers[:,1], c=np.arange(0,3),cmap='viridis', s=100,edgecolors='black')\n",
    "plt.show()"
   ]
  },
  {
   "cell_type": "code",
   "execution_count": 93,
   "metadata": {},
   "outputs": [
    {
     "data": {
      "image/png": "[encoded data removed]",
      "text/plain": [
       "<Figure size 432x288 with 1 Axes>"
      ]
     },
     "metadata": {
      "needs_background": "light"
     },
     "output_type": "display_data"
    }
   ],
   "source": [
    "plt.scatter(X[:,0], X[:,1], c=y_kmeans, cmap='viridis',alpha=.5)\n",
    "plt.xlabel(\"Under-5 Mortality\")\n",
    "plt.ylabel(\"Population\")\n",
    "centers = kmeans.cluster_centers_\n",
    "plt.scatter(centers[:,0], centers[:,1], c=np.arange(0,3),cmap='viridis', s=100,edgecolors='black')\n",
    "plt.show()"
   ]
  },
  {
   "cell_type": "code",
   "execution_count": 94,
   "metadata": {},
   "outputs": [
    {
     "data": {
      "image/png": "[encoded data removed]",
      "text/plain": [
       "<Figure size 432x288 with 1 Axes>"
      ]
     },
     "metadata": {
      "needs_background": "light"
     },
     "output_type": "display_data"
    }
   ],
   "source": [
    "plt.scatter(X[:,0], X[:,3], c=y_kmeans, cmap='viridis',alpha=.5)\n",
    "plt.xlabel(\"Under-5 Mortality\")\n",
    "plt.ylabel(\"GDP Per Capita\")\n",
    "centers = kmeans.cluster_centers_\n",
    "plt.scatter(centers[:,0], centers[:,1], c=np.arange(0,3),cmap='viridis', s=100,edgecolors='black')\n",
    "plt.show()"
   ]
  },
  {
   "cell_type": "markdown",
   "metadata": {},
   "source": [
    "## Modeling"
   ]
  },
  {
   "cell_type": "code",
   "execution_count": 138,
   "metadata": {},
   "outputs": [],
   "source": [
    "# Import models and metrics\n",
    "from sklearn.ensemble import RandomForestClassifier\n",
    "from sklearn.metrics import f1_score\n",
    "from sklearn.svm import SVC\n",
    "from sklearn.metrics import roc_auc_score\n",
    "from sklearn.linear_model import LogisticRegression\n",
    "from sklearn.ensemble import AdaBoostClassifier\n",
    "from sklearn.naive_bayes import GaussianNB\n",
    "from sklearn.metrics import average_precision_score"
   ]
  },
  {
   "cell_type": "code",
   "execution_count": 105,
   "metadata": {},
   "outputs": [],
   "source": [
    "X = data[[\"population\", \"life expectancy\", \"gdp per cap\"]]\n",
    "Y = data[\"label\"]"
   ]
  },
  {
   "cell_type": "code",
   "execution_count": 106,
   "metadata": {},
   "outputs": [],
   "source": [
    "X_train, X_test, y_train, y_test = train_test_split(X, Y, random_state = 426, test_size = 0.25)"
   ]
  },
  {
   "cell_type": "code",
   "execution_count": 107,
   "metadata": {},
   "outputs": [],
   "source": [
    "scaler = MinMaxScaler()\n",
    "X_train = scaler.fit_transform(X_train)\n",
    "X_test = scaler.fit_transform(X_test)"
   ]
  },
  {
   "cell_type": "markdown",
   "metadata": {},
   "source": [
    "Suppprt Vector Classifier, this model preformed very well."
   ]
  },
  {
   "cell_type": "code",
   "execution_count": 118,
   "metadata": {},
   "outputs": [
    {
     "name": "stdout",
     "output_type": "stream",
     "text": [
      "Training Accuracy: 0.9147286821705426\n",
      "Testing Accuracy: 0.8636363636363636\n",
      "F1 Score: 0.8652597402597402\n"
     ]
    }
   ],
   "source": [
    "svclassifier = SVC()\n",
    "svclassifier.fit(X_train, y_train)\n",
    "y_pred = svclassifier.predict(X_test)\n",
    "print(\"Training Accuracy:\", svclassifier.score(X_train, y_train)) #Accuracy of the model when training\n",
    "print(\"Testing Accuracy:\", svclassifier.score(X_test, y_test)) #Accuracy of the test\n",
    "print(\"F1 Score:\", f1_score(y_pred, y_test, average=\"weighted\")) #F1 score"
   ]
  },
  {
   "cell_type": "markdown",
   "metadata": {},
   "source": [
    "Random Forrest Classifier, this model performed well but over fit the training set. It is still a good model however. Possibly could have been more successful with tuning the hyper parameters. However it did not perform well enough to continue to try and improve it."
   ]
  },
  {
   "cell_type": "code",
   "execution_count": 119,
   "metadata": {},
   "outputs": [
    {
     "name": "stdout",
     "output_type": "stream",
     "text": [
      "Training Accuracy: 1.0\n",
      "Testing Accuracy: 0.8409090909090909\n",
      "F1 Score: 0.8438697318007663\n"
     ]
    }
   ],
   "source": [
    "rf = RandomForestClassifier()\n",
    "rf.fit(X_train, y_train)\n",
    "y_pred = rf.predict(X_test)\n",
    "print(\"Training Accuracy:\", rf.score(X_train, y_train)) #Accuracy of the model when training\n",
    "print(\"Testing Accuracy:\", rf.score(X_test, y_test)) #Accuracy of the test\n",
    "print(\"F1 Score:\", f1_score(y_pred, y_test, average=\"weighted\")) #F1 score"
   ]
  },
  {
   "cell_type": "markdown",
   "metadata": {},
   "source": [
    "Logistic Regression, this model performed well but I believe it would have performed better with more features."
   ]
  },
  {
   "cell_type": "code",
   "execution_count": 121,
   "metadata": {},
   "outputs": [
    {
     "name": "stdout",
     "output_type": "stream",
     "text": [
      "Training Accuracy: 0.8449612403100775\n",
      "Testing Accuracy: 0.8181818181818182\n",
      "F1 Score: 0.8277348262685507\n"
     ]
    }
   ],
   "source": [
    "lr = LogisticRegression()\n",
    "lr.fit(X_train, y_train)\n",
    "y_pred = lr.predict(X_test)\n",
    "print(\"Training Accuracy:\", lr.score(X_train, y_train)) #Accuracy of the model when training\n",
    "print(\"Testing Accuracy:\", lr.score(X_test, y_test)) #Accuracy of the test\n",
    "print(\"F1 Score:\", f1_score(y_pred, y_test, average=\"weighted\")) #F1 score"
   ]
  },
  {
   "cell_type": "markdown",
   "metadata": {},
   "source": [
    "Ada Boost Classifier, this model preformed the worst out of all of the models I selected. It may have put too much emphasis on one feature or another that led to poor metrics."
   ]
  },
  {
   "cell_type": "code",
   "execution_count": 124,
   "metadata": {},
   "outputs": [
    {
     "name": "stdout",
     "output_type": "stream",
     "text": [
      "Training Accuracy: 0.627906976744186\n",
      "Testing Accuracy: 0.6136363636363636\n",
      "F1 Score: 0.7165796723212992\n"
     ]
    }
   ],
   "source": [
    "boost = AdaBoostClassifier()\n",
    "boost.fit(X_train, y_train)\n",
    "y_pred = boost.predict(X_test)\n",
    "print(\"Training Accuracy:\", boost.score(X_train, y_train)) #Accuracy of the model when training\n",
    "print(\"Testing Accuracy:\", boost.score(X_test, y_test)) #Accuracy of the test\n",
    "print(\"F1 Score:\", f1_score(y_pred, y_test, average=\"weighted\")) #F1 score"
   ]
  },
  {
   "cell_type": "markdown",
   "metadata": {},
   "source": [
    "Gaussian Naive Bayes Model, this model had very good metrics. I did try and tune the hyper parameters with a grid search cross validation but the metrics I am using went down. This does not mean that the model got worse only that it did not improve the metrics I am tracking."
   ]
  },
  {
   "cell_type": "code",
   "execution_count": 140,
   "metadata": {},
   "outputs": [
    {
     "name": "stdout",
     "output_type": "stream",
     "text": [
      "Training Accuracy: 0.8682170542635659\n",
      "Testing Accuracy: 0.8863636363636364\n",
      "F1 Score: 0.8890856618129345\n"
     ]
    }
   ],
   "source": [
    "nb = GaussianNB()\n",
    "nb.fit(X_train, y_train)\n",
    "y_pred = nb.predict(X_test)\n",
    "print(\"Training Accuracy:\", nb.score(X_train, y_train)) #Accuracy of the model when training\n",
    "print(\"Testing Accuracy:\", nb.score(X_test, y_test)) #Accuracy of the test\n",
    "print(\"F1 Score:\", f1_score(y_pred, y_test, average=\"weighted\")) #F1 score"
   ]
  },
  {
   "cell_type": "markdown",
   "metadata": {},
   "source": [
    "I decided to use test and train accuracy as well as F1 Score to evaluate my models. I felt good about using accuracy because the number of countries in each of the three groups is relatively equal. Accuracy can sometimes be a missleading metric such as in the Random Forrest Model where the training data was overfit. F1 Score is a very good metric to use with multiclass classification. It is a function of Precision and Recall and so it is a good umbrella metric. It helps us see how strong out model is in predicting."
   ]
  },
  {
   "cell_type": "markdown",
   "metadata": {},
   "source": [
    "## Results"
   ]
  },
  {
   "cell_type": "markdown",
   "metadata": {},
   "source": [
    "I used five different models on my data all of which tend to be successful with multiclass classification. Some unique things about my data where that some features were more important than others. We saw that life expectancy had a stronger correlation with infant mortality than did population. In addition to this all of my metrics were numeric. This gave some models an advantage where other models came in weak. The Gaussian Naive Bayes was the best model. On the testing data set it predicted 88.6% of countries in the correct cluster and had a very strong F1 score of .89 which tells us that is it predicting accurately based on the precision and recall. To answer our research question we found that we can predict whether infant mortality in a country is low, moderate, or severe based on population, GDP per capita, and life expectancy."
   ]
  },
  {
   "cell_type": "markdown",
   "metadata": {},
   "source": [
    "## Conclusion"
   ]
  },
  {
   "cell_type": "markdown",
   "metadata": {},
   "source": [
    "As My wife and I get closer to meeting our daughter I can rest assured knowing that there is a very low chance (.6%) of our child not making it to the age of 5 since we live in the United States. People in some countries of Africa are looking at over 10% however. From my study I found that if the country has a higher life expectancy then the mortality rate goes down. We can imply that this could be due to access to medical care and technology. We also found the second important is the GDP per capita. When countries produce more money there is a good chance that the under-5 mortality rate is lower. GDP per capita is not as important of a feature as life expectancy but is more telling than population. Population turned out to be the least informative and there was little predictive power in identifying under-5 mortality rate."
   ]
  },
  {
   "cell_type": "markdown",
   "metadata": {},
   "source": [
    "In this study there could be many other variables that we are not accounting for. It is also true that the correlation between life expectancy and mortality rate is due to medical advancements, for example. A future study could be to look more into variables such as access to medical attention or even geographical/climatic variables."
   ]
  },
  {
   "cell_type": "code",
   "execution_count": null,
   "metadata": {},
   "outputs": [],
   "source": []
  }
 ],
 "metadata": {
  "kernelspec": {
   "display_name": "Python 3",
   "language": "python",
   "name": "python3"
  },
  "language_info": {
   "codemirror_mode": {
    "name": "ipython",
    "version": 3
   },
   "file_extension": ".py",
   "mimetype": "text/x-python",
   "name": "python",
   "nbconvert_exporter": "python",
   "pygments_lexer": "ipython3",
   "version": "3.7.4"
  }
 },
 "nbformat": 4,
 "nbformat_minor": 4
}
